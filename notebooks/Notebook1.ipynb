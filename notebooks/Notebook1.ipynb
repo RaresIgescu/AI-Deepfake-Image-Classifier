{
 "cells": [
  {
   "cell_type": "code",
   "execution_count": null,
   "id": "67e0e9ac-4263-4986-8a49-388a0aef40b3",
   "metadata": {},
   "outputs": [],
   "source": [
    "import pandas as pd\n",
    "import matplotlib.pyplot as plt\n",
    "import seaborn as sns\n",
    "\n",
    "# Încarcă fișierele CSV\n",
    "train_df = pd.read_csv(\"../data/train.csv\")\n",
    "val_df   = pd.read_csv(\"../data/validation.csv\")\n",
    "test_df  = pd.read_csv(\"../data/test.csv\")\n",
    "\n",
    "# Inspectare rapidă\n",
    "print(\"Train:\", train_df.shape)\n",
    "print(train_df.head(), \"\\n\")\n",
    "print(\"Validation:\", val_df.shape)\n",
    "print(val_df.head(), \"\\n\")\n",
    "\n",
    "# Distribuția claselor în train\n",
    "print(train_df['label'].value_counts())\n",
    "sns.countplot(x='label', data=train_df)\n",
    "plt.title(\"Distribuția claselor în train\")\n",
    "plt.show()\n"
   ]
  },
  {
   "cell_type": "code",
   "execution_count": 3,
   "id": "a14de1aa-9491-4a8b-a382-6e03033f9370",
   "metadata": {},
   "outputs": [
    {
     "name": "stdout",
     "output_type": "stream",
     "text": [
      "Batch-uri train: 391\n",
      "Batch-uri val:   40\n"
     ]
    }
   ],
   "source": [
    "import torch\n",
    "from torch.utils.data import Dataset, DataLoader\n",
    "from torchvision import transforms\n",
    "from PIL import Image\n",
    "import os\n",
    "\n",
    "# 2.1. Transformări\n",
    "train_transforms = transforms.Compose([\n",
    "    transforms.Resize((224,224)),\n",
    "    transforms.RandomHorizontalFlip(),\n",
    "    transforms.RandomRotation(15),\n",
    "    transforms.ToTensor(),\n",
    "    transforms.Normalize(mean=[0.485,0.456,0.406],\n",
    "                         std=[0.229,0.224,0.225])\n",
    "])\n",
    "val_transforms = transforms.Compose([\n",
    "    transforms.Resize((224,224)),\n",
    "    transforms.ToTensor(),\n",
    "    transforms.Normalize(mean=[0.485,0.456,0.406],\n",
    "                         std=[0.229,0.224,0.225])\n",
    "])\n",
    "\n",
    "# 2.2. Dataset custom\n",
    "class DeepfakeDataset(Dataset):\n",
    "    def __init__(self, df, img_dir, transform=None):\n",
    "        self.df = df.reset_index(drop=True)\n",
    "        self.img_dir = img_dir\n",
    "        self.transform = transform\n",
    "\n",
    "    def __len__(self):\n",
    "        return len(self.df)\n",
    "\n",
    "    def __getitem__(self, idx):\n",
    "        row = self.df.iloc[idx]\n",
    "        img = Image.open(os.path.join(self.img_dir, f\"{row.image_id}.png\")).convert(\"RGB\")\n",
    "        if self.transform:\n",
    "            img = self.transform(img)\n",
    "        label = torch.tensor(row.label, dtype=torch.long)\n",
    "        return img, label\n",
    "\n",
    "# 2.3. DataLoader\n",
    "train_ds = DeepfakeDataset(train_df, \"data/train\", transform=train_transforms)\n",
    "val_ds   = DeepfakeDataset(val_df,   \"data/validation\", transform=val_transforms)\n",
    "\n",
    "train_loader = DataLoader(train_ds, batch_size=32, shuffle=True,  num_workers=4)\n",
    "val_loader   = DataLoader(val_ds,   batch_size=32, shuffle=False, num_workers=4)\n",
    "\n",
    "print(\"Batch-uri train:\", len(train_loader))\n",
    "print(\"Batch-uri val:  \", len(val_loader))\n"
   ]
  },
  {
   "cell_type": "code",
   "execution_count": null,
   "id": "de98b58f-2fa6-45db-a6a0-4080730bb751",
   "metadata": {},
   "outputs": [],
   "source": [
    "import numpy as np\n",
    "\n",
    "def imshow_batch(images, labels, nrow=4):\n",
    "    imgs = images.numpy().transpose((0,2,3,1))\n",
    "    mean = np.array([0.485,0.456,0.406])\n",
    "    std  = np.array([0.229,0.224,0.225])\n",
    "    imgs = std*imgs + mean\n",
    "    imgs = np.clip(imgs, 0, 1)\n",
    "    fig, axes = plt.subplots(len(imgs)//nrow, nrow, figsize=(12,6))\n",
    "    axes = axes.flatten()\n",
    "    for img, lbl, ax in zip(imgs, labels, axes):\n",
    "        ax.imshow(img)\n",
    "        ax.set_title(f\"Label: {lbl.item()}\")\n",
    "        ax.axis('off')\n",
    "    plt.tight_layout()\n",
    "    plt.show()\n",
    "\n",
    "# Preia și afișează primul batch\n",
    "images, labels = next(iter(train_loader))\n",
    "imshow_batch(images, labels, nrow=4)\n"
   ]
  },
  {
   "cell_type": "code",
   "execution_count": null,
   "id": "af7d8c34-7fc6-46e7-b7e0-e71cd7672bc4",
   "metadata": {},
   "outputs": [],
   "source": []
  }
 ],
 "metadata": {
  "kernelspec": {
   "display_name": "Python 3 (ipykernel)",
   "language": "python",
   "name": "python3"
  },
  "language_info": {
   "codemirror_mode": {
    "name": "ipython",
    "version": 3
   },
   "file_extension": ".py",
   "mimetype": "text/x-python",
   "name": "python",
   "nbconvert_exporter": "python",
   "pygments_lexer": "ipython3",
   "version": "3.12.3"
  }
 },
 "nbformat": 4,
 "nbformat_minor": 5
}
